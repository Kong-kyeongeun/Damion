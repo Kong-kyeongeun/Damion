{
 "cells": [
  {
   "cell_type": "code",
   "execution_count": 30,
   "id": "8d9378c7",
   "metadata": {},
   "outputs": [],
   "source": [
    "import cv2\n",
    "import matplotlib.pyplot as plt\n",
    "import tensorflow as tf\n",
    "import numpy as np\n",
    "import pandas as pd\n",
    "import glob\n",
    "import seaborn as sns\n",
    "from keras.models import Sequential, Model\n",
    "from keras.applications.vgg16 import VGG16, preprocess_input\n",
    "from keras.preprocessing.image import ImageDataGenerator,load_img, img_to_array\n",
    "from keras.models import Sequential\n",
    "from keras.layers import Conv2D, MaxPooling2D, Dense, Dropout, Input, Flatten, SeparableConv2D\n",
    "from keras.layers import GlobalMaxPooling2D\n",
    "from keras.layers.merge import Concatenate\n",
    "from keras.models import Model\n",
    "from tensorflow.keras.optimizers import SGD\n",
    "from keras.callbacks import ModelCheckpoint, Callback, EarlyStopping\n",
    "from tensorflow.keras.utils import to_categorical\n",
    "from sklearn.model_selection import train_test_split\n",
    "from sklearn.preprocessing import StandardScaler\n",
    "from sklearn.metrics import confusion_matrix\n",
    "import cv2\n",
    "from keras import backend as K\n",
    "from pathlib import Path\n",
    "import imgaug as aug\n",
    "import imgaug.augmenters as iaa\n",
    "%matplotlib inline"
   ]
  },
  {
   "cell_type": "code",
   "execution_count": 21,
   "id": "481279b8",
   "metadata": {},
   "outputs": [
    {
     "data": {
      "text/plain": [
       "[name: \"/device:CPU:0\"\n",
       " device_type: \"CPU\"\n",
       " memory_limit: 268435456\n",
       " locality {\n",
       " }\n",
       " incarnation: 5863493775949614454\n",
       " xla_global_id: -1,\n",
       " name: \"/device:GPU:0\"\n",
       " device_type: \"GPU\"\n",
       " memory_limit: 4158062592\n",
       " locality {\n",
       "   bus_id: 1\n",
       "   links {\n",
       "   }\n",
       " }\n",
       " incarnation: 8008558985919688143\n",
       " physical_device_desc: \"device: 0, name: NVIDIA GeForce RTX 2060, pci bus id: 0000:01:00.0, compute capability: 7.5\"\n",
       " xla_global_id: 416903419]"
      ]
     },
     "execution_count": 21,
     "metadata": {},
     "output_type": "execute_result"
    }
   ],
   "source": [
    "from tensorflow.python.client import device_lib\n",
    "device_lib.list_local_devices()"
   ]
  },
  {
   "cell_type": "code",
   "execution_count": 22,
   "id": "a7ae1122",
   "metadata": {},
   "outputs": [
    {
     "name": "stdout",
     "output_type": "stream",
     "text": [
      "WARNING:tensorflow:From C:\\Users\\s_ex9845\\AppData\\Local\\Temp/ipykernel_9312/337460670.py:1: is_gpu_available (from tensorflow.python.framework.test_util) is deprecated and will be removed in a future version.\n",
      "Instructions for updating:\n",
      "Use `tf.config.list_physical_devices('GPU')` instead.\n"
     ]
    },
    {
     "name": "stderr",
     "output_type": "stream",
     "text": [
      "WARNING:tensorflow:From C:\\Users\\s_ex9845\\AppData\\Local\\Temp/ipykernel_9312/337460670.py:1: is_gpu_available (from tensorflow.python.framework.test_util) is deprecated and will be removed in a future version.\n",
      "Instructions for updating:\n",
      "Use `tf.config.list_physical_devices('GPU')` instead.\n"
     ]
    },
    {
     "data": {
      "text/plain": [
       "True"
      ]
     },
     "execution_count": 22,
     "metadata": {},
     "output_type": "execute_result"
    }
   ],
   "source": [
    "tf.test.is_gpu_available()"
   ]
  },
  {
   "cell_type": "markdown",
   "id": "d9a4179d",
   "metadata": {},
   "source": [
    "# 데이터 처리 순서\n",
    "1. 히스토그램 추출 (배경과 x-ray 차이가 많이 날때 즉 x-ray histogram이 한곳에 몰려있을때)\n",
    "2. 주파수별 가중치 부여 (히스토그램 추출 할때 고주파 영역이 너무 부자연스러운 경우가 있음 이를조정)\n",
    "3. 밝기 조절( he , clahe, custom)\n",
    "4. resize\n",
    "5. normalization"
   ]
  },
  {
   "cell_type": "markdown",
   "id": "d139cfd7",
   "metadata": {},
   "source": [
    "# Data 경로 지정"
   ]
  },
  {
   "cell_type": "code",
   "execution_count": 3,
   "id": "41f06740",
   "metadata": {},
   "outputs": [],
   "source": [
    "data_path = Path('D:\\\\Data\\\\SMILE\\\\chest_xray')\n",
    "test = data_path / 'test'\n",
    "train = data_path / 'train'\n",
    "val = data_path / 'val'\n",
    "\n",
    "test_normal = test/ 'NORMAL'\n",
    "test_pneumonia = test/ 'PNEUMONIA'\n",
    "\n",
    "train_normal = train/ 'NORMAL'\n",
    "train_pneumonia = train/ 'PNEUMONIA'\n",
    "\n",
    "val_normal = val/ 'NORMAL'\n",
    "val_pneumonia = val/ 'PNEUMONIA'\n",
    "\n",
    "\n",
    "\n",
    "ex_img = train_normal/'IM-0115-0001.jpeg'\n",
    "Leena = data_path/'Lenna.png'"
   ]
  },
  {
   "cell_type": "markdown",
   "id": "847d0471",
   "metadata": {},
   "source": [
    "# 이미지 예시"
   ]
  },
  {
   "cell_type": "code",
   "execution_count": 4,
   "id": "dc101ff5",
   "metadata": {},
   "outputs": [],
   "source": [
    "img = cv2.imread(str(ex_img), cv2.IMREAD_UNCHANGED)  ## 우선은 기존 사진을 불러오는게 맞을듯\n",
    "cv2.imshow('img', img)\n",
    "\n",
    "cv2.waitKey(0)\n",
    "cv2.destroyAllWindows()"
   ]
  },
  {
   "cell_type": "markdown",
   "id": "95425b8e",
   "metadata": {},
   "source": [
    "# 이미지 분석"
   ]
  },
  {
   "cell_type": "code",
   "execution_count": 5,
   "id": "d346124a",
   "metadata": {},
   "outputs": [
    {
     "name": "stdout",
     "output_type": "stream",
     "text": [
      "(1858, 2090)\n"
     ]
    },
    {
     "data": {
      "text/plain": [
       "[<matplotlib.lines.Line2D at 0x2a2be9c9730>]"
      ]
     },
     "execution_count": 5,
     "metadata": {},
     "output_type": "execute_result"
    },
    {
     "data": {
      "image/png": "[encoded data removed]",
      "text/plain": [
       "<Figure size 432x288 with 1 Axes>"
      ]
     },
     "metadata": {
      "needs_background": "light"
     },
     "output_type": "display_data"
    }
   ],
   "source": [
    "print(img.dtype) ##bit 수확인\n",
    "print(img.shape)\n",
    "hist = cv2.calcHist([img],[0],None,[256],[0,256])\n",
    "plt.plot(hist)"
   ]
  },
  {
   "cell_type": "markdown",
   "id": "8714da45",
   "metadata": {},
   "source": [
    "# 이미지 선명도 조정"
   ]
  },
  {
   "cell_type": "code",
   "execution_count": 6,
   "id": "e2ddff1d",
   "metadata": {},
   "outputs": [],
   "source": [
    "def distinction1(img): #clahe girdsize가 크면 클수록 대비가 좋아지긴하나 부자연스러움\n",
    "    clahe = cv2.createCLAHE(clipLimit=2.0, tileGridSize = (8,8)) \n",
    "    return clahe.apply(img)\n",
    "\n",
    "def distinction2(img): # 히스토그램 평활화\n",
    "    return cv2.equalizeHist(img)\n",
    "\n",
    "def distinction3(img): # 고주파 영역 clahe 영향 키우고 저주파영역 he영향 키움 clahe 자연스럽게 만든거라 생각 하면됨\n",
    "    clahe = cv2.createCLAHE(clipLimit=2.0, tileGridSize = (8,8)) \n",
    "    clahe_img = clahe.apply(img)\n",
    "    he_img = cv2.equalizeHist(img)\n",
    "    std = img.std()\n",
    "    for dh in range(0,img.shape[0]-7,8):\n",
    "        for dw in range(0,img.shape[1]-7,8):\n",
    "            crop = img[dh:dh+8,dw:dw+8]\n",
    "            if std >= crop.std(): #상대적으로 저주파 지역\n",
    "                img[dh:dh+8,dw:dw+8] = clahe_img[dh:dh+8,dw:dw+8]\n",
    "            else:\n",
    "                img[dh:dh+8,dw:dw+8] = he_img[dh:dh+8,dw:dw+8]\n",
    "    return img\n",
    "        \n"
   ]
  },
  {
   "cell_type": "code",
   "execution_count": 7,
   "id": "0a4c2348",
   "metadata": {},
   "outputs": [],
   "source": [
    "f_img = img.copy()\n",
    "cv2.imshow('img', f_img)\n",
    "cv2.imshow('img1', distinction1(f_img))\n",
    "cv2.imshow('img2', distinction2(f_img))\n",
    "cv2.imshow('img3', distinction3(f_img))\n",
    "cv2.waitKey(0)\n",
    "cv2.destroyAllWindows()\n"
   ]
  },
  {
   "cell_type": "markdown",
   "id": "661aadf0",
   "metadata": {},
   "source": [
    "# 주파수 영역 출출 코드 "
   ]
  },
  {
   "cell_type": "code",
   "execution_count": 8,
   "id": "0454b251",
   "metadata": {},
   "outputs": [
    {
     "name": "stdout",
     "output_type": "stream",
     "text": [
      "(1115, 1254)\n"
     ]
    }
   ],
   "source": [
    "img = cv2.imread(str(ex_img), cv2.IMREAD_UNCHANGED)  ## 우선은 기존 사진을 불러오는게 맞을듯\n",
    "f_img = img.copy()\n",
    "f_img = cv2.resize(f_img ,dsize=(0,0),fx=0.6,fy=0.6, interpolation = cv2.INTER_AREA)\n",
    "cv2.imshow('img', f_img)\n",
    "\n",
    "height ,width = f_img.shape\n",
    "crow , ccol = int(height/2), int(width/2)\n",
    "dh, dw = int(height/20), int(width/20)\n",
    "\n",
    "img_zip = []\n",
    "for i in range(1,11):\n",
    "        \n",
    "    background = np.zeros((height, width),dtype= int)\n",
    "    f = np.fft.fft2(f_img)\n",
    "    fshift = np.fft.fftshift(f)\n",
    "    fshift2 = fshift.copy()\n",
    "    if i == 1:\n",
    "        fshift[crow-(dh*i):crow+(dh*i),ccol-(dw*i):ccol+(dw*i)] = 0\n",
    "        fshift2 = fshift2 - fshift\n",
    "    elif i ==10:\n",
    "        fshift[crow-(dh*(i-1)):crow+(dh*(i-1)),ccol-(dh*(i-1)):ccol+(dh*(i-1))] = 0\n",
    "        fshift2 = fshift2 - fshift\n",
    "    else: \n",
    "        fshift[crow-dh*(i-1):crow+dh*(i-1),ccol-dw*(i-1):ccol+dw*(i-1)] = 0\n",
    "        fshift2[crow-(dh*i):crow+(dh*i),ccol-(dw*i):ccol+(dw*i)] = 0\n",
    "        fshift2 = fshift -  fshift2\n",
    "    f_ishift = np.fft.ifftshift(fshift2)\n",
    "    img_back = np.fft.ifft2(f_ishift)\n",
    "    img_back = np.abs(img_back)\n",
    "    img_zip.append(img_back)\n",
    "    \n",
    "weight_img = np.zeros(f_img.shape, np.float32 )\n",
    "print(weight_img.shape)\n",
    "for i, _img in enumerate(img_zip):\n",
    "    if i <3 :\n",
    "        weight_img = weight_img + 1.2*_img\n",
    "    elif (i>=3)and(i<7):\n",
    "        weight_img = weight_img + 1.8*_img\n",
    "    else:\n",
    "        weight_img = weight_img + 0.6*_img\n",
    "        \n",
    "weight_img = weight_img.astype('uint8')\n",
    "cv2.imshow('weight_img', weight_img)\n",
    "cv2.waitKey(0)\n",
    "cv2.destroyAllWindows()"
   ]
  },
  {
   "cell_type": "markdown",
   "id": "10c2df23",
   "metadata": {},
   "source": [
    "# image resize"
   ]
  },
  {
   "cell_type": "code",
   "execution_count": 9,
   "id": "93aba818",
   "metadata": {},
   "outputs": [],
   "source": [
    "def img_resize1(img,w,h):  # padding을 통해 size 맞춤\n",
    "    if((w/img.shape[1]) < h/img.shape[0]):\n",
    "        percent = w/img.shape[1]\n",
    "        img = cv2.resize(img,dsize=(0,0),fx=percent,fy=percent, interpolation = cv2.INTER_LINEAR)\n",
    "        dh = (h-img.shape[0])/2\n",
    "        M = np.array([[1,0,0],[0,1,dh]],dtype=np.float64)  \n",
    "        img = cv2.warpAffine(img, M, (w, h))\n",
    "    else:\n",
    "        percent = h/img.shape[0]\n",
    "        img = cv2.resize(img,dsize=(0,0),fx=percent,fy=percent, interpolation = cv2.INTER_LINEAR)\n",
    "        dw = (w-img.shape[1])/2\n",
    "        M = np.array([[1,0,dw],[0,1,0]],dtype=np.float64)  \n",
    "        img = cv2.warpAffine(img, M, (w, h))\n",
    "    return img\n",
    "        \n",
    "def img_resize2(img,w,h): #crop을 통해 size 맞춤\n",
    "    if((w/img.shape[1]) > h/img.shape[0]):\n",
    "        percent = w/img.shape[1]\n",
    "        img = cv2.resize(img,dsize=(0,0),fx=percent,fy=percent, interpolation = cv2.INTER_LINEAR)\n",
    "        print(\"1\",img.shape[0])\n",
    "        dh = (img.shape[0]-h)//2\n",
    "        img = img[dh:dh+h,:].copy()\n",
    "    else:\n",
    "        percent = h/img.shape[0]\n",
    "        img = cv2.resize(img,dsize=(0,0),fx=percent,fy=percent, interpolation = cv2.INTER_LINEAR)\n",
    "        print(\"2\",img.shape[1])\n",
    "        dw = (img.shape[1]-w)//2\n",
    "        img = img[:,dw:dw+w].copy()\n",
    "    return img\n",
    "    \n",
    "def img_resize3(img,w,h):  # resize1과 동일 보간법 차이\n",
    "    if((w/img.shape[1]) < h/img.shape[0]):\n",
    "        percent = w/img.shape[1]\n",
    "        img = cv2.resize(img,dsize=(0,0),fx=percent,fy=percent, interpolation = cv2.INTER_AREA)\n",
    "        dh = (h-img.shape[0])/2\n",
    "        M = np.array([[1,0,0],[0,1,dh]],dtype=np.float64)  \n",
    "        img = cv2.warpAffine(img, M, (w, h))\n",
    "    else:\n",
    "        percent = h/img.shape[0]\n",
    "        img = cv2.resize(img,dsize=(0,0),fx=percent,fy=percent, interpolation = cv2.INTER_AREA)\n",
    "        dw = (w-img.shape[1])/2\n",
    "        M = np.array([[1,0,dw],[0,1,0]],dtype=np.float64)  \n",
    "        img = cv2.warpAffine(img, M, (w, h))\n",
    "    return img\n",
    "        \n",
    "def img_resize4(img,w,h): #resize2과 동일 보간법 차이\n",
    "    if((w/img.shape[1]) > h/img.shape[0]):\n",
    "        percent = w/img.shape[1]\n",
    "        img = cv2.resize(img,dsize=(0,0),fx=percent,fy=percent, interpolation = cv2.INTER_AREA)\n",
    "        print(\"1\",img.shape[0])\n",
    "        dh = (img.shape[0]-h)//2\n",
    "        img = img[dh:dh+h,:].copy()\n",
    "    else:\n",
    "        percent = h/img.shape[0]\n",
    "        img = cv2.resize(img,dsize=(0,0),fx=percent,fy=percent, interpolation = cv2.INTER_AREA)\n",
    "        print(\"2\",img.shape[1])\n",
    "        dw = (img.shape[1]-w)//2\n",
    "        img = img[:,dw:dw+w].copy()\n",
    "    return img"
   ]
  },
  {
   "cell_type": "code",
   "execution_count": 10,
   "id": "16720d0c",
   "metadata": {},
   "outputs": [
    {
     "name": "stdout",
     "output_type": "stream",
     "text": [
      "(500, 600)\n"
     ]
    }
   ],
   "source": [
    "# test\n",
    "f_img = img.copy()\n",
    "cv2.imshow('before', f_img)\n",
    "f_img1 = img_resize1(f_img,600,500)\n",
    "f_img2 = img_resize3(f_img,600,500)\n",
    "print(f_img2.shape)\n",
    "cv2.imshow('after1', f_img1)\n",
    "cv2.imshow('after2', f_img2)\n",
    "cv2.waitKey(0)\n",
    "cv2.destroyAllWindows()"
   ]
  },
  {
   "cell_type": "code",
   "execution_count": 11,
   "id": "7e6eed90",
   "metadata": {},
   "outputs": [
    {
     "name": "stdout",
     "output_type": "stream",
     "text": [
      "1 533\n"
     ]
    }
   ],
   "source": [
    "f_img = img.copy()\n",
    "f_img2 = img_resize2(f_img,600,500)\n",
    "cv2.imshow('img', f_img2)\n",
    "cv2.imshow('img1', distinction1(f_img2))\n",
    "cv2.imshow('img2', distinction2(f_img2))\n",
    "cv2.imshow('img3', distinction3(f_img2))\n",
    "cv2.waitKey(0)\n",
    "cv2.destroyAllWindows()"
   ]
  },
  {
   "cell_type": "markdown",
   "id": "992012e6",
   "metadata": {},
   "source": [
    "# normalization"
   ]
  },
  {
   "cell_type": "code",
   "execution_count": 12,
   "id": "80caf6bf",
   "metadata": {},
   "outputs": [],
   "source": [
    "def norm1(img):\n",
    "    img = (img.astype(np.float32)-img.min())/(img.max()-img.min())\n",
    "    return img\n",
    "\n",
    "def norm2(img):\n",
    "    img = (img.astype(np.float32) - img.mean())/(img.std())\n",
    "    return img\n",
    "    "
   ]
  },
  {
   "cell_type": "code",
   "execution_count": 28,
   "id": "b55f96a6",
   "metadata": {},
   "outputs": [
    {
     "data": {
      "text/plain": [
       "(array([[130., 575.,  52., ...,   0.,   0.,  15.],\n",
       "        [117., 583.,  51., ...,   0.,   1.,  14.],\n",
       "        [104., 589.,  59., ...,   0.,   0.,  15.],\n",
       "        ...,\n",
       "        [ 56., 528., 162., ...,   0.,   0.,  15.],\n",
       "        [ 63., 518., 156., ...,   0.,   1.,  14.],\n",
       "        [ 57., 530., 150., ...,   0.,   0.,  15.]]),\n",
       " array([0. , 0.1, 0.2, 0.3, 0.4, 0.5, 0.6, 0.7, 0.8, 0.9, 1. ]),\n",
       " <a list of 1496 BarContainer objects>)"
      ]
     },
     "execution_count": 28,
     "metadata": {},
     "output_type": "execute_result"
    },
    {
     "data": {
      "image/png": "[encoded data removed]",
      "text/plain": [
       "<Figure size 432x288 with 1 Axes>"
      ]
     },
     "metadata": {
      "needs_background": "light"
     },
     "output_type": "display_data"
    }
   ],
   "source": [
    "f_img = img.copy()\n",
    "f_img = norm1(f_img)\n",
    "plt.hist(f_img)\n"
   ]
  },
  {
   "cell_type": "markdown",
   "id": "7a5fb22c",
   "metadata": {},
   "source": [
    "# augmentation"
   ]
  },
  {
   "cell_type": "code",
   "execution_count": 37,
   "id": "bf1e02e9",
   "metadata": {},
   "outputs": [],
   "source": [
    "aug_seq =  iaa.Sequential([\n",
    "    iaa.Fliplr(), # horizontal flips\n",
    "    iaa.Affine(rotate=(20,60),\n",
    "               translate_percent={\"x\": (-0.2, 0.2), \"y\": (-0.2, 0.2)},\n",
    "              shear=(-16, 16)), # roatation\n",
    "    iaa.Multiply((1.2, 1.5))] #random brightness\n",
    "    ,random_order=True)"
   ]
  },
  {
   "cell_type": "code",
   "execution_count": 40,
   "id": "3ff824d9",
   "metadata": {},
   "outputs": [],
   "source": [
    "ex_img = train_normal/'IM-0115-0001.jpeg'\n",
    "ex_img = cv2.imread(str(ex_img), cv2.IMREAD_UNCHANGED)\n",
    "aug_img = aug_seq.augment_image(ex_img)\n",
    "cv2.imshow('aug_img', aug_img)\n",
    "cv2.waitKey(0)\n",
    "cv2.destroyAllWindows()"
   ]
  },
  {
   "cell_type": "markdown",
   "id": "3f39db4a",
   "metadata": {},
   "source": [
    "# Data generator1 (이미지 np.array 형태로 반환)"
   ]
  },
  {
   "cell_type": "code",
   "execution_count": 45,
   "id": "2c5272ca",
   "metadata": {},
   "outputs": [],
   "source": [
    "def pretreatment(path, class_id, per):\n",
    "\n",
    "    data = []\n",
    "    labels = []\n",
    "    for img in path:\n",
    "        img = cv2.imread(str(img), cv2.IMREAD_GRAYSCALE)\n",
    "        img = distinction3(img) ## 선명도 높이기\n",
    "        img = img_resize3(img,224,224) ## 수정 필요\n",
    "        \n",
    "        origin_img = norm1(img) ## 정규화 \n",
    "        origin_img = np.dstack([origin_img])\n",
    "        \n",
    "        label = to_categorical(class_id, num_classes=2) ## 수정 필요\n",
    "        \n",
    "        data.append(origin_img)\n",
    "        labels.append(label)\n",
    "        \n",
    "        for i in range(per):\n",
    "            aug_img = aug_seq.augment_image(img)\n",
    "            aug_img = norm1(aug_img)\n",
    "            aug_img = np.dstack([aug_img])\n",
    "            data.append(aug_img)\n",
    "            labels.append(label)\n",
    "\n",
    "    data = np.array(data)\n",
    "    labels = np.array(labels)\n",
    "    \n",
    "    return data, labels\n",
    "\n"
   ]
  },
  {
   "cell_type": "code",
   "execution_count": 54,
   "id": "f135e685",
   "metadata": {},
   "outputs": [],
   "source": [
    "normal_cases = val_normal.glob('*.jpeg')\n",
    "pneumonia_cases = val_pneumonia.glob('*.jpeg')\n",
    "img, label = pretreatment(normal_cases, 0, 2)\n",
    "for i in range (0,len(img)):\n",
    "    cv2.imshow('aug_img' + str(i), img[i])\n",
    "    \n",
    "cv2.waitKey(0)\n",
    "cv2.destroyAllWindows()\n"
   ]
  },
  {
   "cell_type": "markdown",
   "id": "38d9a288",
   "metadata": {},
   "source": [
    "# Data generator2 (batch 단위 이미지 generator 반환)"
   ]
  },
  {
   "cell_type": "code",
   "execution_count": 36,
   "id": "c8e28b87",
   "metadata": {},
   "outputs": [],
   "source": [
    "def data_gen(data, batch_size, img_size):\n",
    "    n = len(data)\n",
    "    steps = n//batch_size\n",
    "    \n",
    "    \n",
    "    batch_data = np.zeros((batch_size,img_size[0],img_size[1],1), dtype=np.float32)\n",
    "    batch_labels =np.zeros((batch_size,2), dtype=np.float32) ## 수정필요\n",
    "    \n",
    "    indices = np.arange(n)\n",
    "    np.random.shuffle(indices)\n",
    "    i = 0\n",
    "    while True:\n",
    "        count = 0\n",
    "        next_batch = indices[(i*batch_size):(i+1)*batch_size]\n",
    "        for j, idx in enumerate(next_batch):\n",
    "            img_name = data.iloc[idx]['image']\n",
    "            label = data.iloc[idx]['label']\n",
    "            \n",
    "            encoded_label = to_categorical(label, num_classes=2) ## 수정 필요\n",
    "            \n",
    "            img = cv2.imread(str(img_name), cv2.IMREAD_GRAYSCALE)\n",
    "            img = distinction3(img) ## 선명도 높이기\n",
    "            img = img_resize3(img,img_size[1],img_size[0]) ## img resize\n",
    "            img = norm1(img) ## 정규화\n",
    "            img = np.dstack([img]) ## 차원 맞추기\n",
    "            batch_data[count] = img\n",
    "            batch_labels[count] = encoded_label\n",
    "            \n",
    "            count +=1\n",
    "            if count==batch_size -1:\n",
    "                break\n",
    "        i += 1\n",
    "        yield batch_data, batch_labels\n",
    "        \n",
    "        if i>=steps:\n",
    "            i=0\n",
    "            np.random.shuffle(indices)"
   ]
  },
  {
   "cell_type": "markdown",
   "id": "4472ff76",
   "metadata": {},
   "source": [
    "# train  데이터 만들기"
   ]
  },
  {
   "cell_type": "code",
   "execution_count": 15,
   "id": "3c4cfe1b",
   "metadata": {},
   "outputs": [
    {
     "data": {
      "text/plain": [
       "<AxesSubplot:xlabel='label', ylabel='count'>"
      ]
     },
     "execution_count": 15,
     "metadata": {},
     "output_type": "execute_result"
    },
    {
     "data": {
      "image/png": "[encoded data removed]",
      "text/plain": [
       "<Figure size 432x288 with 1 Axes>"
      ]
     },
     "metadata": {
      "needs_background": "light"
     },
     "output_type": "display_data"
    }
   ],
   "source": [
    "norm_cases = train_normal.glob('*.jpeg')\n",
    "pneumonia_cases = train_pneumonia.glob('*.jpeg')\n",
    "\n",
    "train_data = []\n",
    "for img in norm_cases:\n",
    "    train_data.append((img, 0))\n",
    "    \n",
    "for img in pneumonia_cases:\n",
    "    train_data.append((img, 1))\n",
    "\n",
    "train_data = pd.DataFrame(train_data, columns=['image', 'label'], index = None)\n",
    "train_data = train_data.sample(frac=1.).reset_index(drop=True)\n",
    "sns.countplot(x='label', data=train_data)\n"
   ]
  },
  {
   "cell_type": "markdown",
   "id": "e5b1b3bf",
   "metadata": {},
   "source": [
    "# validation 데이터 만들기"
   ]
  },
  {
   "cell_type": "code",
   "execution_count": 16,
   "id": "6812d651",
   "metadata": {},
   "outputs": [
    {
     "name": "stdout",
     "output_type": "stream",
     "text": [
      "image 2  (224, 224, 1)\n",
      "Total number of validation examples:  (16, 224, 224, 1)\n",
      "Total number of labels: (16, 2)\n"
     ]
    }
   ],
   "source": [
    "# 배운점 \n",
    "    #os.listdir = 해당 디렉토리 파일명만 가져옴\n",
    "    #glob = 해당 디렉토리의 경로명까지 가져옴 ->내생각엔 사진을 불러오는 느낌이라기 보단 경로를 불러오는 느낌\n",
    "    #glob 은 generator를 반환함 \n",
    "    #dstack, stack, concatenate 차이 \n",
    "\n",
    "normal_cases = val_normal.glob('*.jpeg')\n",
    "pneumonia_cases = val_pneumonia.glob('*.jpeg')\n",
    "\n",
    "valid_data = []\n",
    "valid_labels = []\n",
    "\n",
    "for img in normal_cases:\n",
    "    img = cv2.imread(str(img), cv2.IMREAD_UNCHANGED)\n",
    "    img = distinction3(img) ## 선명도 높이기\n",
    "    img = img_resize3(img,224,224) ## img resize\n",
    "    img = norm1(img) ## 정규화 \n",
    "    img = np.dstack([img])\n",
    "    label = to_categorical(0, num_classes=2)\n",
    "    valid_data.append(img)\n",
    "    valid_labels.append(label)\n",
    "\n",
    "for img in pneumonia_cases:\n",
    "    img = cv2.imread(str(img), cv2.IMREAD_UNCHANGED)\n",
    "    img = distinction3(img) ## 선명도 높이기\n",
    "    img = img_resize3(img,224,224) ## img resize\n",
    "    img = norm1(img) ## 정규화\n",
    "    img = np.dstack([img])\n",
    "    label = to_categorical(1, num_classes=2)\n",
    "    valid_data.append(img)\n",
    "    valid_labels.append(label)\n",
    "    \n",
    "# Convert the list into numpy arrays\n",
    "valid_data = np.array(valid_data)\n",
    "valid_labels = np.array(valid_labels)\n",
    "print(\"image 2 \", valid_data[1].shape)\n",
    "\n",
    "print(\"Total number of validation examples: \", valid_data.shape)\n",
    "print(\"Total number of labels:\", valid_labels.shape)\n"
   ]
  },
  {
   "cell_type": "markdown",
   "id": "dfce9162",
   "metadata": {},
   "source": [
    "# Model 구현"
   ]
  },
  {
   "cell_type": "code",
   "execution_count": 18,
   "id": "a47edde8",
   "metadata": {},
   "outputs": [
    {
     "name": "stdout",
     "output_type": "stream",
     "text": [
      "Model: \"model\"\n",
      "_________________________________________________________________\n",
      " Layer (type)                Output Shape              Param #   \n",
      "=================================================================\n",
      " ImageInput (InputLayer)     [(None, 224, 224, 1)]     0         \n",
      "                                                                 \n",
      " Conv1_1 (Conv2D)            (None, 224, 224, 64)      640       \n",
      "                                                                 \n",
      " Conv1_2 (Conv2D)            (None, 224, 224, 64)      36928     \n",
      "                                                                 \n",
      " pool1 (MaxPooling2D)        (None, 112, 112, 64)      0         \n",
      "                                                                 \n",
      " Conv2_1 (SeparableConv2D)   (None, 112, 112, 128)     8896      \n",
      "                                                                 \n",
      " Conv2_2 (SeparableConv2D)   (None, 112, 112, 128)     17664     \n",
      "                                                                 \n",
      " pool2 (MaxPooling2D)        (None, 56, 56, 128)       0         \n",
      "                                                                 \n",
      " Conv3_1 (SeparableConv2D)   (None, 56, 56, 256)       34176     \n",
      "                                                                 \n",
      " bn1 (BatchNormalization)    (None, 56, 56, 256)       1024      \n",
      "                                                                 \n",
      " Conv3_2 (SeparableConv2D)   (None, 56, 56, 256)       68096     \n",
      "                                                                 \n",
      " bn2 (BatchNormalization)    (None, 56, 56, 256)       1024      \n",
      "                                                                 \n",
      " Conv3_3 (SeparableConv2D)   (None, 56, 56, 256)       68096     \n",
      "                                                                 \n",
      " pool3 (MaxPooling2D)        (None, 28, 28, 256)       0         \n",
      "                                                                 \n",
      " Conv4_1 (SeparableConv2D)   (None, 28, 28, 512)       133888    \n",
      "                                                                 \n",
      " bn3 (BatchNormalization)    (None, 28, 28, 512)       2048      \n",
      "                                                                 \n",
      " Conv4_2 (SeparableConv2D)   (None, 28, 28, 512)       267264    \n",
      "                                                                 \n",
      " bn4 (BatchNormalization)    (None, 28, 28, 512)       2048      \n",
      "                                                                 \n",
      " Conv4_3 (SeparableConv2D)   (None, 28, 28, 512)       267264    \n",
      "                                                                 \n",
      " pool4 (MaxPooling2D)        (None, 14, 14, 512)       0         \n",
      "                                                                 \n",
      " flatten (Flatten)           (None, 100352)            0         \n",
      "                                                                 \n",
      " fc1 (Dense)                 (None, 1024)              102761472 \n",
      "                                                                 \n",
      " dropout1 (Dropout)          (None, 1024)              0         \n",
      "                                                                 \n",
      " fc2 (Dense)                 (None, 512)               524800    \n",
      "                                                                 \n",
      " dropout2 (Dropout)          (None, 512)               0         \n",
      "                                                                 \n",
      " fc3 (Dense)                 (None, 2)                 1026      \n",
      "                                                                 \n",
      "=================================================================\n",
      "Total params: 104,196,354\n",
      "Trainable params: 104,193,282\n",
      "Non-trainable params: 3,072\n",
      "_________________________________________________________________\n"
     ]
    }
   ],
   "source": [
    "#배운점\n",
    "    #3*3 kernel 을 사용하면 왜 7*7 보다 파라미터가 줄어드는지\n",
    "    # adam 최적화 기법 : 관성과 변수별 학습률을 고려한 최적의 최적화기법\n",
    "    # relu singmoid -> 이진분류 identity -> 회귀\n",
    "    # batch normal -> \n",
    "    # 기울기 소실문제 합성 함수의 미분을 구하는것은 계속해서 곱해나간단 소린데 1보다작은수를 계속 곱해나가면 기울기가 계속 줄어듬\n",
    "    # ? 왜 모델이 깊어질수록 비선형성이 증가하는가\n",
    "    # ? 왜 channel을 점점 키우는 걸까 키우면 왜 보통 2배씩 커지지\n",
    "from keras.layers import BatchNormalization\n",
    "def build_model():\n",
    "    input_img = Input(shape=(224,224,1), name='ImageInput')\n",
    "    x = Conv2D(64, (3,3), activation='relu', padding='same', name='Conv1_1')(input_img)\n",
    "    x = Conv2D(64, (3,3), activation='relu', padding='same', name='Conv1_2')(x)\n",
    "    x = MaxPooling2D((2,2), name='pool1')(x)\n",
    "    \n",
    "    x = SeparableConv2D(128, (3,3), activation='relu', padding='same', name='Conv2_1')(x)\n",
    "    x = SeparableConv2D(128, (3,3), activation='relu', padding='same', name='Conv2_2')(x)\n",
    "    x = MaxPooling2D((2,2), name='pool2')(x)\n",
    "    \n",
    "    x = SeparableConv2D(256, (3,3), activation='relu', padding='same', name='Conv3_1')(x)\n",
    "    x = BatchNormalization(name='bn1')(x)\n",
    "    x = SeparableConv2D(256, (3,3), activation='relu', padding='same', name='Conv3_2')(x)\n",
    "    x = BatchNormalization(name='bn2')(x)\n",
    "    x = SeparableConv2D(256, (3,3), activation='relu', padding='same', name='Conv3_3')(x)\n",
    "    x = MaxPooling2D((2,2), name='pool3')(x)\n",
    "    \n",
    "    x = SeparableConv2D(512, (3,3), activation='relu', padding='same', name='Conv4_1')(x)\n",
    "    x = BatchNormalization(name='bn3')(x)\n",
    "    x = SeparableConv2D(512, (3,3), activation='relu', padding='same', name='Conv4_2')(x)\n",
    "    x = BatchNormalization(name='bn4')(x)\n",
    "    x = SeparableConv2D(512, (3,3), activation='relu', padding='same', name='Conv4_3')(x)\n",
    "    x = MaxPooling2D((2,2), name='pool4')(x)\n",
    "    \n",
    "    x = Flatten(name='flatten')(x)\n",
    "    x = Dense(1024, activation='relu', name='fc1')(x)\n",
    "    x = Dropout(0.7, name='dropout1')(x)\n",
    "    x = Dense(512, activation='relu', name='fc2')(x)\n",
    "    x = Dropout(0.5, name='dropout2')(x)\n",
    "    x = Dense(2, activation='softmax', name='fc3')(x)\n",
    "    \n",
    "    model = Model(inputs=input_img, outputs=x)\n",
    "    return model\n",
    "\n",
    "model = build_model()\n",
    "model.summary()"
   ]
  },
  {
   "cell_type": "markdown",
   "id": "0e970bf9",
   "metadata": {},
   "source": [
    "# Model 학습"
   ]
  },
  {
   "cell_type": "code",
   "execution_count": 20,
   "id": "0e10b199",
   "metadata": {},
   "outputs": [
    {
     "name": "stdout",
     "output_type": "stream",
     "text": [
      "Number of training and validation steps: 326 and 16\n"
     ]
    },
    {
     "name": "stderr",
     "output_type": "stream",
     "text": [
      "C:\\Users\\s_ex9845\\AppData\\Local\\Temp/ipykernel_9312/3745474607.py:20: UserWarning: `Model.fit_generator` is deprecated and will be removed in a future version. Please use `Model.fit`, which supports generators.\n",
      "  history = model.fit_generator(train_data_gen, epochs=nb_epochs, steps_per_epoch=nb_train_steps,\n"
     ]
    },
    {
     "ename": "KeyboardInterrupt",
     "evalue": "",
     "output_type": "error",
     "traceback": [
      "\u001b[1;31m---------------------------------------------------------------------------\u001b[0m",
      "\u001b[1;31mKeyboardInterrupt\u001b[0m                         Traceback (most recent call last)",
      "\u001b[1;32m~\\AppData\\Local\\Temp/ipykernel_9312/3745474607.py\u001b[0m in \u001b[0;36m<module>\u001b[1;34m\u001b[0m\n\u001b[0;32m     18\u001b[0m \u001b[1;33m\u001b[0m\u001b[0m\n\u001b[0;32m     19\u001b[0m \u001b[0mprint\u001b[0m\u001b[1;33m(\u001b[0m\u001b[1;34m\"Number of training and validation steps: {} and {}\"\u001b[0m\u001b[1;33m.\u001b[0m\u001b[0mformat\u001b[0m\u001b[1;33m(\u001b[0m\u001b[0mnb_train_steps\u001b[0m\u001b[1;33m,\u001b[0m \u001b[0mlen\u001b[0m\u001b[1;33m(\u001b[0m\u001b[0mvalid_data\u001b[0m\u001b[1;33m)\u001b[0m\u001b[1;33m)\u001b[0m\u001b[1;33m)\u001b[0m\u001b[1;33m\u001b[0m\u001b[1;33m\u001b[0m\u001b[0m\n\u001b[1;32m---> 20\u001b[1;33m history = model.fit_generator(train_data_gen, epochs=nb_epochs, steps_per_epoch=nb_train_steps,\n\u001b[0m\u001b[0;32m     21\u001b[0m                                \u001b[0mvalidation_data\u001b[0m\u001b[1;33m=\u001b[0m\u001b[1;33m(\u001b[0m\u001b[0mvalid_data\u001b[0m\u001b[1;33m,\u001b[0m \u001b[0mvalid_labels\u001b[0m\u001b[1;33m)\u001b[0m\u001b[1;33m,\u001b[0m\u001b[0mcallbacks\u001b[0m\u001b[1;33m=\u001b[0m\u001b[1;33m[\u001b[0m\u001b[0mes\u001b[0m\u001b[1;33m,\u001b[0m \u001b[0mchkpt\u001b[0m\u001b[1;33m]\u001b[0m\u001b[1;33m,\u001b[0m\u001b[1;33m\u001b[0m\u001b[1;33m\u001b[0m\u001b[0m\n\u001b[0;32m     22\u001b[0m                                class_weight={0:1.0, 1:0.4})\n",
      "\u001b[1;32m~\\Anaconda3\\envs\\YOLO\\lib\\site-packages\\keras\\engine\\training.py\u001b[0m in \u001b[0;36mfit_generator\u001b[1;34m(self, generator, steps_per_epoch, epochs, verbose, callbacks, validation_data, validation_steps, validation_freq, class_weight, max_queue_size, workers, use_multiprocessing, shuffle, initial_epoch)\u001b[0m\n\u001b[0;32m   2014\u001b[0m         \u001b[1;34m'Please use `Model.fit`, which supports generators.'\u001b[0m\u001b[1;33m,\u001b[0m\u001b[1;33m\u001b[0m\u001b[1;33m\u001b[0m\u001b[0m\n\u001b[0;32m   2015\u001b[0m         stacklevel=2)\n\u001b[1;32m-> 2016\u001b[1;33m     return self.fit(\n\u001b[0m\u001b[0;32m   2017\u001b[0m         \u001b[0mgenerator\u001b[0m\u001b[1;33m,\u001b[0m\u001b[1;33m\u001b[0m\u001b[1;33m\u001b[0m\u001b[0m\n\u001b[0;32m   2018\u001b[0m         \u001b[0msteps_per_epoch\u001b[0m\u001b[1;33m=\u001b[0m\u001b[0msteps_per_epoch\u001b[0m\u001b[1;33m,\u001b[0m\u001b[1;33m\u001b[0m\u001b[1;33m\u001b[0m\u001b[0m\n",
      "\u001b[1;32m~\\Anaconda3\\envs\\YOLO\\lib\\site-packages\\keras\\utils\\traceback_utils.py\u001b[0m in \u001b[0;36merror_handler\u001b[1;34m(*args, **kwargs)\u001b[0m\n\u001b[0;32m     62\u001b[0m     \u001b[0mfiltered_tb\u001b[0m \u001b[1;33m=\u001b[0m \u001b[1;32mNone\u001b[0m\u001b[1;33m\u001b[0m\u001b[1;33m\u001b[0m\u001b[0m\n\u001b[0;32m     63\u001b[0m     \u001b[1;32mtry\u001b[0m\u001b[1;33m:\u001b[0m\u001b[1;33m\u001b[0m\u001b[1;33m\u001b[0m\u001b[0m\n\u001b[1;32m---> 64\u001b[1;33m       \u001b[1;32mreturn\u001b[0m \u001b[0mfn\u001b[0m\u001b[1;33m(\u001b[0m\u001b[1;33m*\u001b[0m\u001b[0margs\u001b[0m\u001b[1;33m,\u001b[0m \u001b[1;33m**\u001b[0m\u001b[0mkwargs\u001b[0m\u001b[1;33m)\u001b[0m\u001b[1;33m\u001b[0m\u001b[1;33m\u001b[0m\u001b[0m\n\u001b[0m\u001b[0;32m     65\u001b[0m     \u001b[1;32mexcept\u001b[0m \u001b[0mException\u001b[0m \u001b[1;32mas\u001b[0m \u001b[0me\u001b[0m\u001b[1;33m:\u001b[0m  \u001b[1;31m# pylint: disable=broad-except\u001b[0m\u001b[1;33m\u001b[0m\u001b[1;33m\u001b[0m\u001b[0m\n\u001b[0;32m     66\u001b[0m       \u001b[0mfiltered_tb\u001b[0m \u001b[1;33m=\u001b[0m \u001b[0m_process_traceback_frames\u001b[0m\u001b[1;33m(\u001b[0m\u001b[0me\u001b[0m\u001b[1;33m.\u001b[0m\u001b[0m__traceback__\u001b[0m\u001b[1;33m)\u001b[0m\u001b[1;33m\u001b[0m\u001b[1;33m\u001b[0m\u001b[0m\n",
      "\u001b[1;32m~\\Anaconda3\\envs\\YOLO\\lib\\site-packages\\keras\\engine\\training.py\u001b[0m in \u001b[0;36mfit\u001b[1;34m(self, x, y, batch_size, epochs, verbose, callbacks, validation_split, validation_data, shuffle, class_weight, sample_weight, initial_epoch, steps_per_epoch, validation_steps, validation_batch_size, validation_freq, max_queue_size, workers, use_multiprocessing)\u001b[0m\n\u001b[0;32m   1164\u001b[0m          \u001b[0mtraining_utils\u001b[0m\u001b[1;33m.\u001b[0m\u001b[0mRespectCompiledTrainableState\u001b[0m\u001b[1;33m(\u001b[0m\u001b[0mself\u001b[0m\u001b[1;33m)\u001b[0m\u001b[1;33m:\u001b[0m\u001b[1;33m\u001b[0m\u001b[1;33m\u001b[0m\u001b[0m\n\u001b[0;32m   1165\u001b[0m       \u001b[1;31m# Creates a `tf.data.Dataset` and handles batch and epoch iteration.\u001b[0m\u001b[1;33m\u001b[0m\u001b[1;33m\u001b[0m\u001b[1;33m\u001b[0m\u001b[0m\n\u001b[1;32m-> 1166\u001b[1;33m       data_handler = data_adapter.get_data_handler(\n\u001b[0m\u001b[0;32m   1167\u001b[0m           \u001b[0mx\u001b[0m\u001b[1;33m=\u001b[0m\u001b[0mx\u001b[0m\u001b[1;33m,\u001b[0m\u001b[1;33m\u001b[0m\u001b[1;33m\u001b[0m\u001b[0m\n\u001b[0;32m   1168\u001b[0m           \u001b[0my\u001b[0m\u001b[1;33m=\u001b[0m\u001b[0my\u001b[0m\u001b[1;33m,\u001b[0m\u001b[1;33m\u001b[0m\u001b[1;33m\u001b[0m\u001b[0m\n",
      "\u001b[1;32m~\\Anaconda3\\envs\\YOLO\\lib\\site-packages\\keras\\engine\\data_adapter.py\u001b[0m in \u001b[0;36mget_data_handler\u001b[1;34m(*args, **kwargs)\u001b[0m\n\u001b[0;32m   1401\u001b[0m   \u001b[1;32mif\u001b[0m \u001b[0mgetattr\u001b[0m\u001b[1;33m(\u001b[0m\u001b[0mkwargs\u001b[0m\u001b[1;33m[\u001b[0m\u001b[1;34m\"model\"\u001b[0m\u001b[1;33m]\u001b[0m\u001b[1;33m,\u001b[0m \u001b[1;34m\"_cluster_coordinator\"\u001b[0m\u001b[1;33m,\u001b[0m \u001b[1;32mNone\u001b[0m\u001b[1;33m)\u001b[0m\u001b[1;33m:\u001b[0m\u001b[1;33m\u001b[0m\u001b[1;33m\u001b[0m\u001b[0m\n\u001b[0;32m   1402\u001b[0m     \u001b[1;32mreturn\u001b[0m \u001b[0m_ClusterCoordinatorDataHandler\u001b[0m\u001b[1;33m(\u001b[0m\u001b[1;33m*\u001b[0m\u001b[0margs\u001b[0m\u001b[1;33m,\u001b[0m \u001b[1;33m**\u001b[0m\u001b[0mkwargs\u001b[0m\u001b[1;33m)\u001b[0m\u001b[1;33m\u001b[0m\u001b[1;33m\u001b[0m\u001b[0m\n\u001b[1;32m-> 1403\u001b[1;33m   \u001b[1;32mreturn\u001b[0m \u001b[0mDataHandler\u001b[0m\u001b[1;33m(\u001b[0m\u001b[1;33m*\u001b[0m\u001b[0margs\u001b[0m\u001b[1;33m,\u001b[0m \u001b[1;33m**\u001b[0m\u001b[0mkwargs\u001b[0m\u001b[1;33m)\u001b[0m\u001b[1;33m\u001b[0m\u001b[1;33m\u001b[0m\u001b[0m\n\u001b[0m\u001b[0;32m   1404\u001b[0m \u001b[1;33m\u001b[0m\u001b[0m\n\u001b[0;32m   1405\u001b[0m \u001b[1;33m\u001b[0m\u001b[0m\n",
      "\u001b[1;32m~\\Anaconda3\\envs\\YOLO\\lib\\site-packages\\keras\\engine\\data_adapter.py\u001b[0m in \u001b[0;36m__init__\u001b[1;34m(self, x, y, sample_weight, batch_size, steps_per_epoch, initial_epoch, epochs, shuffle, class_weight, max_queue_size, workers, use_multiprocessing, model, steps_per_execution, distribute)\u001b[0m\n\u001b[0;32m   1151\u001b[0m \u001b[1;33m\u001b[0m\u001b[0m\n\u001b[0;32m   1152\u001b[0m     \u001b[0madapter_cls\u001b[0m \u001b[1;33m=\u001b[0m \u001b[0mselect_data_adapter\u001b[0m\u001b[1;33m(\u001b[0m\u001b[0mx\u001b[0m\u001b[1;33m,\u001b[0m \u001b[0my\u001b[0m\u001b[1;33m)\u001b[0m\u001b[1;33m\u001b[0m\u001b[1;33m\u001b[0m\u001b[0m\n\u001b[1;32m-> 1153\u001b[1;33m     self._adapter = adapter_cls(\n\u001b[0m\u001b[0;32m   1154\u001b[0m         \u001b[0mx\u001b[0m\u001b[1;33m,\u001b[0m\u001b[1;33m\u001b[0m\u001b[1;33m\u001b[0m\u001b[0m\n\u001b[0;32m   1155\u001b[0m         \u001b[0my\u001b[0m\u001b[1;33m,\u001b[0m\u001b[1;33m\u001b[0m\u001b[1;33m\u001b[0m\u001b[0m\n",
      "\u001b[1;32m~\\Anaconda3\\envs\\YOLO\\lib\\site-packages\\keras\\engine\\data_adapter.py\u001b[0m in \u001b[0;36m__init__\u001b[1;34m(self, x, y, sample_weights, workers, use_multiprocessing, max_queue_size, model, **kwargs)\u001b[0m\n\u001b[0;32m    797\u001b[0m     \u001b[1;31m# Since we have to know the dtype of the python generator when we build the\u001b[0m\u001b[1;33m\u001b[0m\u001b[1;33m\u001b[0m\u001b[1;33m\u001b[0m\u001b[0m\n\u001b[0;32m    798\u001b[0m     \u001b[1;31m# dataset, we have to look at a batch to infer the structure.\u001b[0m\u001b[1;33m\u001b[0m\u001b[1;33m\u001b[0m\u001b[1;33m\u001b[0m\u001b[0m\n\u001b[1;32m--> 799\u001b[1;33m     \u001b[0mpeek\u001b[0m\u001b[1;33m,\u001b[0m \u001b[0mx\u001b[0m \u001b[1;33m=\u001b[0m \u001b[0mself\u001b[0m\u001b[1;33m.\u001b[0m\u001b[0m_peek_and_restore\u001b[0m\u001b[1;33m(\u001b[0m\u001b[0mx\u001b[0m\u001b[1;33m)\u001b[0m\u001b[1;33m\u001b[0m\u001b[1;33m\u001b[0m\u001b[0m\n\u001b[0m\u001b[0;32m    800\u001b[0m     \u001b[0mpeek\u001b[0m \u001b[1;33m=\u001b[0m \u001b[0mself\u001b[0m\u001b[1;33m.\u001b[0m\u001b[0m_standardize_batch\u001b[0m\u001b[1;33m(\u001b[0m\u001b[0mpeek\u001b[0m\u001b[1;33m)\u001b[0m\u001b[1;33m\u001b[0m\u001b[1;33m\u001b[0m\u001b[0m\n\u001b[0;32m    801\u001b[0m     \u001b[0mpeek\u001b[0m \u001b[1;33m=\u001b[0m \u001b[0m_process_tensorlike\u001b[0m\u001b[1;33m(\u001b[0m\u001b[0mpeek\u001b[0m\u001b[1;33m)\u001b[0m\u001b[1;33m\u001b[0m\u001b[1;33m\u001b[0m\u001b[0m\n",
      "\u001b[1;32m~\\Anaconda3\\envs\\YOLO\\lib\\site-packages\\keras\\engine\\data_adapter.py\u001b[0m in \u001b[0;36m_peek_and_restore\u001b[1;34m(x)\u001b[0m\n\u001b[0;32m    861\u001b[0m   \u001b[1;33m@\u001b[0m\u001b[0mstaticmethod\u001b[0m\u001b[1;33m\u001b[0m\u001b[1;33m\u001b[0m\u001b[0m\n\u001b[0;32m    862\u001b[0m   \u001b[1;32mdef\u001b[0m \u001b[0m_peek_and_restore\u001b[0m\u001b[1;33m(\u001b[0m\u001b[0mx\u001b[0m\u001b[1;33m)\u001b[0m\u001b[1;33m:\u001b[0m\u001b[1;33m\u001b[0m\u001b[1;33m\u001b[0m\u001b[0m\n\u001b[1;32m--> 863\u001b[1;33m     \u001b[0mpeek\u001b[0m \u001b[1;33m=\u001b[0m \u001b[0mnext\u001b[0m\u001b[1;33m(\u001b[0m\u001b[0mx\u001b[0m\u001b[1;33m)\u001b[0m\u001b[1;33m\u001b[0m\u001b[1;33m\u001b[0m\u001b[0m\n\u001b[0m\u001b[0;32m    864\u001b[0m     \u001b[1;32mreturn\u001b[0m \u001b[0mpeek\u001b[0m\u001b[1;33m,\u001b[0m \u001b[0mitertools\u001b[0m\u001b[1;33m.\u001b[0m\u001b[0mchain\u001b[0m\u001b[1;33m(\u001b[0m\u001b[1;33m[\u001b[0m\u001b[0mpeek\u001b[0m\u001b[1;33m]\u001b[0m\u001b[1;33m,\u001b[0m \u001b[0mx\u001b[0m\u001b[1;33m)\u001b[0m\u001b[1;33m\u001b[0m\u001b[1;33m\u001b[0m\u001b[0m\n\u001b[0;32m    865\u001b[0m \u001b[1;33m\u001b[0m\u001b[0m\n",
      "\u001b[1;32m~\\AppData\\Local\\Temp/ipykernel_9312/495622858.py\u001b[0m in \u001b[0;36mdata_gen\u001b[1;34m(data, batch_size, img_size)\u001b[0m\n\u001b[0;32m     20\u001b[0m \u001b[1;33m\u001b[0m\u001b[0m\n\u001b[0;32m     21\u001b[0m             \u001b[0mimg\u001b[0m \u001b[1;33m=\u001b[0m \u001b[0mcv2\u001b[0m\u001b[1;33m.\u001b[0m\u001b[0mimread\u001b[0m\u001b[1;33m(\u001b[0m\u001b[0mstr\u001b[0m\u001b[1;33m(\u001b[0m\u001b[0mimg_name\u001b[0m\u001b[1;33m)\u001b[0m\u001b[1;33m,\u001b[0m \u001b[0mcv2\u001b[0m\u001b[1;33m.\u001b[0m\u001b[0mIMREAD_GRAYSCALE\u001b[0m\u001b[1;33m)\u001b[0m\u001b[1;33m\u001b[0m\u001b[1;33m\u001b[0m\u001b[0m\n\u001b[1;32m---> 22\u001b[1;33m             \u001b[0mimg\u001b[0m \u001b[1;33m=\u001b[0m \u001b[0mdistinction3\u001b[0m\u001b[1;33m(\u001b[0m\u001b[0mimg\u001b[0m\u001b[1;33m)\u001b[0m \u001b[1;31m## 선명도 높이기\u001b[0m\u001b[1;33m\u001b[0m\u001b[1;33m\u001b[0m\u001b[0m\n\u001b[0m\u001b[0;32m     23\u001b[0m             \u001b[0mimg\u001b[0m \u001b[1;33m=\u001b[0m \u001b[0mimg_resize3\u001b[0m\u001b[1;33m(\u001b[0m\u001b[0mimg\u001b[0m\u001b[1;33m,\u001b[0m\u001b[0mimg_size\u001b[0m\u001b[1;33m[\u001b[0m\u001b[1;36m1\u001b[0m\u001b[1;33m]\u001b[0m\u001b[1;33m,\u001b[0m\u001b[0mimg_size\u001b[0m\u001b[1;33m[\u001b[0m\u001b[1;36m0\u001b[0m\u001b[1;33m]\u001b[0m\u001b[1;33m)\u001b[0m \u001b[1;31m## img resize\u001b[0m\u001b[1;33m\u001b[0m\u001b[1;33m\u001b[0m\u001b[0m\n\u001b[0;32m     24\u001b[0m             \u001b[0mimg\u001b[0m \u001b[1;33m=\u001b[0m \u001b[0mnorm1\u001b[0m\u001b[1;33m(\u001b[0m\u001b[0mimg\u001b[0m\u001b[1;33m)\u001b[0m \u001b[1;31m## 정규화\u001b[0m\u001b[1;33m\u001b[0m\u001b[1;33m\u001b[0m\u001b[0m\n",
      "\u001b[1;32m~\\AppData\\Local\\Temp/ipykernel_9312/956470003.py\u001b[0m in \u001b[0;36mdistinction3\u001b[1;34m(img)\u001b[0m\n\u001b[0;32m     15\u001b[0m             \u001b[0mcrop\u001b[0m \u001b[1;33m=\u001b[0m \u001b[0mimg\u001b[0m\u001b[1;33m[\u001b[0m\u001b[0mdh\u001b[0m\u001b[1;33m:\u001b[0m\u001b[0mdh\u001b[0m\u001b[1;33m+\u001b[0m\u001b[1;36m8\u001b[0m\u001b[1;33m,\u001b[0m\u001b[0mdw\u001b[0m\u001b[1;33m:\u001b[0m\u001b[0mdw\u001b[0m\u001b[1;33m+\u001b[0m\u001b[1;36m8\u001b[0m\u001b[1;33m]\u001b[0m\u001b[1;33m\u001b[0m\u001b[1;33m\u001b[0m\u001b[0m\n\u001b[0;32m     16\u001b[0m             \u001b[1;32mif\u001b[0m \u001b[0mstd\u001b[0m \u001b[1;33m>=\u001b[0m \u001b[0mcrop\u001b[0m\u001b[1;33m.\u001b[0m\u001b[0mstd\u001b[0m\u001b[1;33m(\u001b[0m\u001b[1;33m)\u001b[0m\u001b[1;33m:\u001b[0m \u001b[1;31m#상대적으로 저주파 지역\u001b[0m\u001b[1;33m\u001b[0m\u001b[1;33m\u001b[0m\u001b[0m\n\u001b[1;32m---> 17\u001b[1;33m                 \u001b[0mimg\u001b[0m\u001b[1;33m[\u001b[0m\u001b[0mdh\u001b[0m\u001b[1;33m:\u001b[0m\u001b[0mdh\u001b[0m\u001b[1;33m+\u001b[0m\u001b[1;36m8\u001b[0m\u001b[1;33m,\u001b[0m\u001b[0mdw\u001b[0m\u001b[1;33m:\u001b[0m\u001b[0mdw\u001b[0m\u001b[1;33m+\u001b[0m\u001b[1;36m8\u001b[0m\u001b[1;33m]\u001b[0m \u001b[1;33m=\u001b[0m \u001b[0mclahe_img\u001b[0m\u001b[1;33m[\u001b[0m\u001b[0mdh\u001b[0m\u001b[1;33m:\u001b[0m\u001b[0mdh\u001b[0m\u001b[1;33m+\u001b[0m\u001b[1;36m8\u001b[0m\u001b[1;33m,\u001b[0m\u001b[0mdw\u001b[0m\u001b[1;33m:\u001b[0m\u001b[0mdw\u001b[0m\u001b[1;33m+\u001b[0m\u001b[1;36m8\u001b[0m\u001b[1;33m]\u001b[0m\u001b[1;33m\u001b[0m\u001b[1;33m\u001b[0m\u001b[0m\n\u001b[0m\u001b[0;32m     18\u001b[0m             \u001b[1;32melse\u001b[0m\u001b[1;33m:\u001b[0m\u001b[1;33m\u001b[0m\u001b[1;33m\u001b[0m\u001b[0m\n\u001b[0;32m     19\u001b[0m                 \u001b[0mimg\u001b[0m\u001b[1;33m[\u001b[0m\u001b[0mdh\u001b[0m\u001b[1;33m:\u001b[0m\u001b[0mdh\u001b[0m\u001b[1;33m+\u001b[0m\u001b[1;36m8\u001b[0m\u001b[1;33m,\u001b[0m\u001b[0mdw\u001b[0m\u001b[1;33m:\u001b[0m\u001b[0mdw\u001b[0m\u001b[1;33m+\u001b[0m\u001b[1;36m8\u001b[0m\u001b[1;33m]\u001b[0m \u001b[1;33m=\u001b[0m \u001b[0mhe_img\u001b[0m\u001b[1;33m[\u001b[0m\u001b[0mdh\u001b[0m\u001b[1;33m:\u001b[0m\u001b[0mdh\u001b[0m\u001b[1;33m+\u001b[0m\u001b[1;36m8\u001b[0m\u001b[1;33m,\u001b[0m\u001b[0mdw\u001b[0m\u001b[1;33m:\u001b[0m\u001b[0mdw\u001b[0m\u001b[1;33m+\u001b[0m\u001b[1;36m8\u001b[0m\u001b[1;33m]\u001b[0m\u001b[1;33m\u001b[0m\u001b[1;33m\u001b[0m\u001b[0m\n",
      "\u001b[1;31mKeyboardInterrupt\u001b[0m: "
     ]
    }
   ],
   "source": [
    "#배우점 \n",
    "    # keras 함수가 다함\n",
    "    # model (compile, fit_generator) , earlystopping, modelcheckpoint\n",
    "    #fit fit_generator 차이 \n",
    "from tensorflow.keras.optimizers import Adam\n",
    "opt = Adam(learning_rate=0.0001, decay=1e-5)\n",
    "es = EarlyStopping(patience=5)\n",
    "chkpt = ModelCheckpoint(filepath='best_model_todate', monitor = 'loss', mode = 'min' , save_best_only=True, save_weights_only=True)\n",
    "model.compile(loss='binary_crossentropy', metrics=['accuracy'],optimizer=opt)\n",
    "batch_size = 16\n",
    "nb_epochs = 20\n",
    "size = [224,224]\n",
    "# Get a train data generator\n",
    "train_data_gen = data_gen(data=train_data, batch_size=batch_size ,img_size = size)\n",
    "\n",
    "# Define the number of training steps\n",
    "nb_train_steps = train_data.shape[0]//batch_size\n",
    "\n",
    "print(\"Number of training and validation steps: {} and {}\".format(nb_train_steps, len(valid_data)))\n",
    "history = model.fit_generator(train_data_gen, epochs=nb_epochs, steps_per_epoch=nb_train_steps,\n",
    "                               validation_data=(valid_data, valid_labels),callbacks=[es, chkpt],\n",
    "                               class_weight={0:1.0, 1:0.4})"
   ]
  },
  {
   "cell_type": "code",
   "execution_count": 26,
   "id": "f885fee4",
   "metadata": {},
   "outputs": [
    {
     "ename": "KeyboardInterrupt",
     "evalue": "",
     "output_type": "error",
     "traceback": [
      "\u001b[1;31m---------------------------------------------------------------------------\u001b[0m",
      "\u001b[1;31mKeyboardInterrupt\u001b[0m                         Traceback (most recent call last)",
      "\u001b[1;32m~\\AppData\\Local\\Temp/ipykernel_9312/1413334396.py\u001b[0m in \u001b[0;36m<module>\u001b[1;34m\u001b[0m\n\u001b[0;32m     22\u001b[0m \u001b[1;32mfor\u001b[0m \u001b[0mimg\u001b[0m \u001b[1;32min\u001b[0m \u001b[0mpneumonia_cases\u001b[0m\u001b[1;33m:\u001b[0m\u001b[1;33m\u001b[0m\u001b[1;33m\u001b[0m\u001b[0m\n\u001b[0;32m     23\u001b[0m     \u001b[0mimg\u001b[0m \u001b[1;33m=\u001b[0m \u001b[0mcv2\u001b[0m\u001b[1;33m.\u001b[0m\u001b[0mimread\u001b[0m\u001b[1;33m(\u001b[0m\u001b[0mstr\u001b[0m\u001b[1;33m(\u001b[0m\u001b[0mimg\u001b[0m\u001b[1;33m)\u001b[0m\u001b[1;33m,\u001b[0m \u001b[0mcv2\u001b[0m\u001b[1;33m.\u001b[0m\u001b[0mIMREAD_GRAYSCALE\u001b[0m\u001b[1;33m)\u001b[0m\u001b[1;33m\u001b[0m\u001b[1;33m\u001b[0m\u001b[0m\n\u001b[1;32m---> 24\u001b[1;33m     \u001b[0mimg\u001b[0m \u001b[1;33m=\u001b[0m \u001b[0mdistinction3\u001b[0m\u001b[1;33m(\u001b[0m\u001b[0mimg\u001b[0m\u001b[1;33m)\u001b[0m \u001b[1;31m## 선명도 높이기\u001b[0m\u001b[1;33m\u001b[0m\u001b[1;33m\u001b[0m\u001b[0m\n\u001b[0m\u001b[0;32m     25\u001b[0m     \u001b[0mimg\u001b[0m \u001b[1;33m=\u001b[0m \u001b[0mimg_resize3\u001b[0m\u001b[1;33m(\u001b[0m\u001b[0mimg\u001b[0m\u001b[1;33m,\u001b[0m\u001b[1;36m224\u001b[0m\u001b[1;33m,\u001b[0m\u001b[1;36m224\u001b[0m\u001b[1;33m)\u001b[0m \u001b[1;31m## 수정 필요\u001b[0m\u001b[1;33m\u001b[0m\u001b[1;33m\u001b[0m\u001b[0m\n\u001b[0;32m     26\u001b[0m     \u001b[0morigin_img\u001b[0m \u001b[1;33m=\u001b[0m \u001b[0mnorm1\u001b[0m\u001b[1;33m(\u001b[0m\u001b[0mimg\u001b[0m\u001b[1;33m)\u001b[0m \u001b[1;31m## 정규화\u001b[0m\u001b[1;33m\u001b[0m\u001b[1;33m\u001b[0m\u001b[0m\n",
      "\u001b[1;32m~\\AppData\\Local\\Temp/ipykernel_9312/956470003.py\u001b[0m in \u001b[0;36mdistinction3\u001b[1;34m(img)\u001b[0m\n\u001b[0;32m     15\u001b[0m             \u001b[0mcrop\u001b[0m \u001b[1;33m=\u001b[0m \u001b[0mimg\u001b[0m\u001b[1;33m[\u001b[0m\u001b[0mdh\u001b[0m\u001b[1;33m:\u001b[0m\u001b[0mdh\u001b[0m\u001b[1;33m+\u001b[0m\u001b[1;36m8\u001b[0m\u001b[1;33m,\u001b[0m\u001b[0mdw\u001b[0m\u001b[1;33m:\u001b[0m\u001b[0mdw\u001b[0m\u001b[1;33m+\u001b[0m\u001b[1;36m8\u001b[0m\u001b[1;33m]\u001b[0m\u001b[1;33m\u001b[0m\u001b[1;33m\u001b[0m\u001b[0m\n\u001b[0;32m     16\u001b[0m             \u001b[1;32mif\u001b[0m \u001b[0mstd\u001b[0m \u001b[1;33m>=\u001b[0m \u001b[0mcrop\u001b[0m\u001b[1;33m.\u001b[0m\u001b[0mstd\u001b[0m\u001b[1;33m(\u001b[0m\u001b[1;33m)\u001b[0m\u001b[1;33m:\u001b[0m \u001b[1;31m#상대적으로 저주파 지역\u001b[0m\u001b[1;33m\u001b[0m\u001b[1;33m\u001b[0m\u001b[0m\n\u001b[1;32m---> 17\u001b[1;33m                 \u001b[0mimg\u001b[0m\u001b[1;33m[\u001b[0m\u001b[0mdh\u001b[0m\u001b[1;33m:\u001b[0m\u001b[0mdh\u001b[0m\u001b[1;33m+\u001b[0m\u001b[1;36m8\u001b[0m\u001b[1;33m,\u001b[0m\u001b[0mdw\u001b[0m\u001b[1;33m:\u001b[0m\u001b[0mdw\u001b[0m\u001b[1;33m+\u001b[0m\u001b[1;36m8\u001b[0m\u001b[1;33m]\u001b[0m \u001b[1;33m=\u001b[0m \u001b[0mclahe_img\u001b[0m\u001b[1;33m[\u001b[0m\u001b[0mdh\u001b[0m\u001b[1;33m:\u001b[0m\u001b[0mdh\u001b[0m\u001b[1;33m+\u001b[0m\u001b[1;36m8\u001b[0m\u001b[1;33m,\u001b[0m\u001b[0mdw\u001b[0m\u001b[1;33m:\u001b[0m\u001b[0mdw\u001b[0m\u001b[1;33m+\u001b[0m\u001b[1;36m8\u001b[0m\u001b[1;33m]\u001b[0m\u001b[1;33m\u001b[0m\u001b[1;33m\u001b[0m\u001b[0m\n\u001b[0m\u001b[0;32m     18\u001b[0m             \u001b[1;32melse\u001b[0m\u001b[1;33m:\u001b[0m\u001b[1;33m\u001b[0m\u001b[1;33m\u001b[0m\u001b[0m\n\u001b[0;32m     19\u001b[0m                 \u001b[0mimg\u001b[0m\u001b[1;33m[\u001b[0m\u001b[0mdh\u001b[0m\u001b[1;33m:\u001b[0m\u001b[0mdh\u001b[0m\u001b[1;33m+\u001b[0m\u001b[1;36m8\u001b[0m\u001b[1;33m,\u001b[0m\u001b[0mdw\u001b[0m\u001b[1;33m:\u001b[0m\u001b[0mdw\u001b[0m\u001b[1;33m+\u001b[0m\u001b[1;36m8\u001b[0m\u001b[1;33m]\u001b[0m \u001b[1;33m=\u001b[0m \u001b[0mhe_img\u001b[0m\u001b[1;33m[\u001b[0m\u001b[0mdh\u001b[0m\u001b[1;33m:\u001b[0m\u001b[0mdh\u001b[0m\u001b[1;33m+\u001b[0m\u001b[1;36m8\u001b[0m\u001b[1;33m,\u001b[0m\u001b[0mdw\u001b[0m\u001b[1;33m:\u001b[0m\u001b[0mdw\u001b[0m\u001b[1;33m+\u001b[0m\u001b[1;36m8\u001b[0m\u001b[1;33m]\u001b[0m\u001b[1;33m\u001b[0m\u001b[1;33m\u001b[0m\u001b[0m\n",
      "\u001b[1;31mKeyboardInterrupt\u001b[0m: "
     ]
    }
   ],
   "source": [
    "model.load_weights(\"best_model_todate\")\n",
    "\n",
    "test_normal = test/ 'NORMAL'\n",
    "test_pneumonia = test/ 'PNEUMONIA'\n",
    "\n",
    "normal_cases = test_normal.glob('*.jpeg')\n",
    "pneumonia_cases = test_pneumonia.glob('*.jpeg')\n",
    "test_data = []\n",
    "test_labels = []\n",
    "\n",
    "for img in normal_cases:\n",
    "    img = cv2.imread(str(img), cv2.IMREAD_GRAYSCALE)\n",
    "    img = distinction3(img) ## 선명도 높이기\n",
    "    img = img_resize3(img,224,224) ## 수정 필요\n",
    "    origin_img = norm1(img) ## 정규화 \n",
    "    origin_img = np.dstack([origin_img])    \n",
    "    label = to_categorical(0, num_classes=2) ## 수정 필요\n",
    "    \n",
    "    test_data.append(origin_img)\n",
    "    test_labels.append(label)\n",
    "    \n",
    "for img in pneumonia_cases:\n",
    "    img = cv2.imread(str(img), cv2.IMREAD_GRAYSCALE)\n",
    "    img = distinction3(img) ## 선명도 높이기\n",
    "    img = img_resize3(img,224,224) ## 수정 필요\n",
    "    origin_img = norm1(img) ## 정규화 \n",
    "    origin_img = np.dstack([origin_img])    \n",
    "    label = to_categorical(1, num_classes=2) ## 수정 필요\n",
    "    \n",
    "    test_data.append(origin_img)\n",
    "    test_labels.append(label)\n",
    "    \n",
    "\n",
    "test_data = np.array(test_data)\n",
    "test_labels = np.array(test_labels)\n",
    "\n",
    "print(\"Total number of test examples: \", test_data.shape)\n",
    "print(\"Total number of labels:\", test_labels.shape)\n",
    "\n",
    "test_loss, test_score = model.evaluate(test_data, test_labels, batch_size=16)\n",
    "print(\"Loss on test set: \", test_loss)\n",
    "print(\"Accuracy on test set: \", test_score)\n",
    "\n",
    "\n"
   ]
  },
  {
   "cell_type": "code",
   "execution_count": null,
   "id": "bccec30b",
   "metadata": {},
   "outputs": [],
   "source": [
    "aug_seq =  iaa.OneOf([\n",
    "    iaa.Fliplr(), # horizontal flips\n",
    "    iaa.Affine(rotate=(20,60)\n",
    "               translate_percent={\"x\": (-0.2, 0.2), \"y\": (-0.2, 0.2)},\n",
    "              shear=(-16, 16)), # roatation\n",
    "    iaa.Multiply((1.2, 1.5))] #random brightness\n",
    "    ,random_order=True)"
   ]
  }
 ],
 "metadata": {
  "kernelspec": {
   "display_name": "Python 3 (ipykernel)",
   "language": "python",
   "name": "python3"
  },
  "language_info": {
   "codemirror_mode": {
    "name": "ipython",
    "version": 3
   },
   "file_extension": ".py",
   "mimetype": "text/x-python",
   "name": "python",
   "nbconvert_exporter": "python",
   "pygments_lexer": "ipython3",
   "version": "3.8.12"
  }
 },
 "nbformat": 4,
 "nbformat_minor": 5
}
