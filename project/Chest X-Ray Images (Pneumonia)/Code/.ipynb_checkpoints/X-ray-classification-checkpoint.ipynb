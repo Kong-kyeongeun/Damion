{
 "cells": [
  {
   "cell_type": "code",
   "execution_count": 1,
   "metadata": {},
   "outputs": [],
   "source": [
    "#\n",
    "import numpy as np \n",
    "import pandas as pd \n",
    "import random\n",
    "\n",
    "# folder\n",
    "import os\n",
    "import glob\n",
    "\n",
    "# image\n",
    "from PIL import Image\n",
    "\n",
    "# visu\n",
    "import matplotlib.pyplot as plt\n",
    "plt.rc('image', cmap='gray')\n",
    "\n",
    "# sklearn\n",
    "from sklearn.preprocessing import LabelEncoder\n",
    "from sklearn.model_selection import train_test_split\n",
    "\n",
    "#tensorflow\n",
    "from tensorflow.keras import Sequential\n",
    "from tensorflow.keras import layers\n",
    "from tensorflow.keras.callbacks import EarlyStopping"
   ]
  },
  {
   "cell_type": "code",
   "execution_count": 4,
   "metadata": {},
   "outputs": [],
   "source": [
    "categories = [\"NORMAL\", \"PNEUMONIA\"]\n",
    "datasets = [\"train\", \"test\", \"val\"]"
   ]
  },
  {
   "cell_type": "code",
   "execution_count": 5,
   "metadata": {
    "scrolled": true
   },
   "outputs": [],
   "source": [
    "#glob.glob('C:\\\\Users\\\\김주빈\\\\project\\\\Damion\\\\project\\\\Chest X-Ray Images (Pneumonia)\\\\chest_xray\\\\*')"
   ]
  },
  {
   "cell_type": "code",
   "execution_count": 7,
   "metadata": {},
   "outputs": [
    {
     "name": "stdout",
     "output_type": "stream",
     "text": [
      "Average image width: 1327.88\n",
      "Average image height: 970.69\n",
      "Wall time: 3.93 s\n"
     ]
    }
   ],
   "source": [
    "%%time\n",
    "\n",
    "widths = []\n",
    "heights = []\n",
    "\n",
    "for set_ in datasets:\n",
    "    for cat in categories:\n",
    "        filelist = glob.glob('C:\\\\Users\\\\Been\\\\chest_xray\\\\'+ set_ + '/' + cat + '/*.jpeg')\n",
    "        widths.extend([Image.open(fname).size[0] for fname in filelist])\n",
    "        heights.extend([Image.open(fname).size[1] for fname in filelist])\n",
    "\n",
    "images_size = pd.DataFrame({\"widths\": widths, \"heights\": heights})\n",
    "        \n",
    "print(\"Average image width: \" + f'{images_size[\"widths\"].mean():.2f}')\n",
    "print(\"Average image height: \" + f'{images_size[\"heights\"].mean():.2f}')"
   ]
  },
  {
   "cell_type": "code",
   "execution_count": 8,
   "metadata": {},
   "outputs": [
    {
     "name": "stdout",
     "output_type": "stream",
     "text": [
      "image width: 132\n",
      "image height: 97\n"
     ]
    }
   ],
   "source": [
    "im_width = int(images_size[\"widths\"].mean()/10)\n",
    "im_height = int(images_size[\"heights\"].mean()/10)\n",
    "print(\"image width: \" + str(im_width))\n",
    "print(\"image height: \" + str(im_height))"
   ]
  },
  {
   "cell_type": "code",
   "execution_count": 17,
   "metadata": {},
   "outputs": [
    {
     "name": "stdout",
     "output_type": "stream",
     "text": [
      "Wall time: 2min 9s\n"
     ]
    }
   ],
   "source": [
    "%%time\n",
    "\n",
    "data = []\n",
    "target = []\n",
    "\n",
    "for set_ in datasets:\n",
    "    for cat in categories:\n",
    "        filelist = glob.glob('C:\\\\Users\\\\Been\\\\chest_xray\\\\'+ set_ + '/' + cat + '/*.jpeg')\n",
    "        target.extend([cat for _ in filelist])\n",
    "        data.extend([np.array(Image.open(fname).convert('L').resize((im_width, im_height))) for fname in filelist])\n",
    "#\n",
    "data_array = np.stack(data, axis=0)\n",
    "target = np.array(target)"
   ]
  },
  {
   "cell_type": "code",
   "execution_count": 18,
   "metadata": {
    "scrolled": true
   },
   "outputs": [
    {
     "name": "stdout",
     "output_type": "stream",
     "text": [
      "(5856, 97, 132)\n",
      "['NORMAL' 'NORMAL' 'NORMAL' ... 'PNEUMONIA' 'PNEUMONIA' 'PNEUMONIA']\n"
     ]
    }
   ],
   "source": [
    "print(data_array.shape)\n",
    "print(target)"
   ]
  },
  {
   "cell_type": "code",
   "execution_count": 19,
   "metadata": {},
   "outputs": [
    {
     "data": {
      "text/html": [
       "<div>\n",
       "<style scoped>\n",
       "    .dataframe tbody tr th:only-of-type {\n",
       "        vertical-align: middle;\n",
       "    }\n",
       "\n",
       "    .dataframe tbody tr th {\n",
       "        vertical-align: top;\n",
       "    }\n",
       "\n",
       "    .dataframe thead th {\n",
       "        text-align: right;\n",
       "    }\n",
       "</style>\n",
       "<table border=\"1\" class=\"dataframe\">\n",
       "  <thead>\n",
       "    <tr style=\"text-align: right;\">\n",
       "      <th></th>\n",
       "      <th>count</th>\n",
       "      <th>%</th>\n",
       "    </tr>\n",
       "  </thead>\n",
       "  <tbody>\n",
       "    <tr>\n",
       "      <th>PNEUMONIA</th>\n",
       "      <td>4273</td>\n",
       "      <td>73</td>\n",
       "    </tr>\n",
       "    <tr>\n",
       "      <th>NORMAL</th>\n",
       "      <td>1583</td>\n",
       "      <td>27</td>\n",
       "    </tr>\n",
       "  </tbody>\n",
       "</table>\n",
       "</div>"
      ],
      "text/plain": [
       "           count   %\n",
       "PNEUMONIA   4273  73\n",
       "NORMAL      1583  27"
      ]
     },
     "execution_count": 19,
     "metadata": {},
     "output_type": "execute_result"
    }
   ],
   "source": [
    "pd.concat([pd.DataFrame(pd.DataFrame({\"target\" : target}).value_counts()).rename(columns={0:\"count\"}),\n",
    "           pd.DataFrame(pd.DataFrame(target).value_counts()*100/len(target)).applymap(round).rename(columns={0:\"%\"})], axis=1)"
   ]
  },
  {
   "cell_type": "code",
   "execution_count": 20,
   "metadata": {},
   "outputs": [],
   "source": [
    "fig = plt.figure(figsize=(20,15))\n",
    "gs = fig.add_gridspec(4, 4)\n",
    "#\n",
    "for line in range(0, 3):\n",
    "    for row in range(0, 3):\n",
    "        num_image = random.randint(0, data_array.shape[0])\n",
    "        ax = fig.add_subplot(gs[line, row])\n",
    "        ax.axis('off');\n",
    "        ax.set_title(target[num_image])\n",
    "        ax.imshow(data_array[num_image]);"
   ]
  },
  {
   "cell_type": "code",
   "execution_count": 21,
   "metadata": {},
   "outputs": [],
   "source": [
    "X_train, X_test, y_train, y_test = train_test_split(data_array, target, random_state = 43, test_size = 0.2, stratify=target)"
   ]
  },
  {
   "cell_type": "code",
   "execution_count": 24,
   "metadata": {},
   "outputs": [
    {
     "name": "stdout",
     "output_type": "stream",
     "text": [
      "(4684, 97, 132)\n",
      "(4684,)\n"
     ]
    }
   ],
   "source": [
    "print(X_train.shape)\n",
    "print(y_train.shape)"
   ]
  },
  {
   "cell_type": "code",
   "execution_count": 25,
   "metadata": {},
   "outputs": [
    {
     "data": {
      "text/plain": [
       "PNEUMONIA    0.729718\n",
       "NORMAL       0.270282\n",
       "dtype: float64"
      ]
     },
     "execution_count": 25,
     "metadata": {},
     "output_type": "execute_result"
    }
   ],
   "source": [
    "pd.DataFrame(y_train).value_counts()/len(y_train)\n",
    "pd.DataFrame().value_counts()/len(y_train)"
   ]
  },
  {
   "cell_type": "code",
   "execution_count": 30,
   "metadata": {},
   "outputs": [],
   "source": [
    "#정규화 (0에서 1까지 픽셀값 조정)\n",
    "X_test_norm = np.round((X_test/255), 3).copy()\n",
    "X_train_norm = np.round((X_train/255), 3).copy()"
   ]
  },
  {
   "cell_type": "code",
   "execution_count": 33,
   "metadata": {},
   "outputs": [],
   "source": [
    "encoder = LabelEncoder()"
   ]
  },
  {
   "cell_type": "code",
   "execution_count": 35,
   "metadata": {},
   "outputs": [],
   "source": [
    "y_train_cat = encoder.fit_transform(y_train)\n",
    "y_test_cat = encoder.fit_transform(y_test)"
   ]
  },
  {
   "cell_type": "code",
   "execution_count": 36,
   "metadata": {},
   "outputs": [
    {
     "name": "stdout",
     "output_type": "stream",
     "text": [
      "['PNEUMONIA' 'NORMAL' 'NORMAL']\n",
      "[1 0 0]\n"
     ]
    }
   ],
   "source": [
    "print(y_train[:3])\n",
    "print(y_train_cat[:3])"
   ]
  },
  {
   "cell_type": "code",
   "execution_count": 37,
   "metadata": {},
   "outputs": [
    {
     "data": {
      "text/plain": [
       "(4684, 97, 132, 1)"
      ]
     },
     "execution_count": 37,
     "metadata": {},
     "output_type": "execute_result"
    }
   ],
   "source": [
    "X_train_norm = X_train_norm.reshape(-1, 97, 132, 1)\n",
    "X_test_norm = X_test_norm.reshape(-1, 97, 132, 1)\n",
    "X_train_norm.shape"
   ]
  },
  {
   "cell_type": "code",
   "execution_count": null,
   "metadata": {},
   "outputs": [],
   "source": []
  }
 ],
 "metadata": {
  "kernelspec": {
   "display_name": "Python 3",
   "language": "python",
   "name": "python3"
  },
  "language_info": {
   "codemirror_mode": {
    "name": "ipython",
    "version": 3
   },
   "file_extension": ".py",
   "mimetype": "text/x-python",
   "name": "python",
   "nbconvert_exporter": "python",
   "pygments_lexer": "ipython3",
   "version": "3.7.11"
  }
 },
 "nbformat": 4,
 "nbformat_minor": 4
}
