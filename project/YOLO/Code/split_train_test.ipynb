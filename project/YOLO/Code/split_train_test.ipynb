{
 "cells": [
  {
   "cell_type": "code",
   "execution_count": 4,
   "id": "b1de0a5a",
   "metadata": {},
   "outputs": [],
   "source": [
    "from glob import glob\n",
    "from sklearn.model_selection import train_test_split"
   ]
  },
  {
   "cell_type": "code",
   "execution_count": 2,
   "id": "9efdca74",
   "metadata": {},
   "outputs": [
    {
     "data": {
      "text/plain": [
       "854"
      ]
     },
     "execution_count": 2,
     "metadata": {},
     "output_type": "execute_result"
    }
   ],
   "source": [
    "img_list = glob('C:\\\\Users\\\\s_ex9845\\\\git\\\\darknet\\\\build\\\\darknet\\\\x64\\\\data\\\\obj\\\\*.png')\n",
    "len(img_list)"
   ]
  },
  {
   "cell_type": "code",
   "execution_count": 5,
   "id": "350f38b7",
   "metadata": {},
   "outputs": [
    {
     "name": "stdout",
     "output_type": "stream",
     "text": [
      "768 86\n"
     ]
    }
   ],
   "source": [
    "from sklearn.model_selection import train_test_split\n",
    "\n",
    "train_img_list, test_img_list = train_test_split(img_list, test_size=0.1, random_state=42) # random_state는 임의로 선택\n",
    "\n",
    "print(len(train_img_list), len(test_img_list))"
   ]
  },
  {
   "cell_type": "code",
   "execution_count": 7,
   "id": "38b56ebd",
   "metadata": {},
   "outputs": [],
   "source": [
    "with open('C:\\\\Users\\\\s_ex9845\\\\git\\\\darknet\\\\build\\\\darknet\\\\x64\\\\data\\\\train.txt', 'w') as f:\n",
    "    f.write('\\n'.join(train_img_list) + '\\n')\n",
    "\n",
    "with open('C:\\\\Users\\\\s_ex9845\\\\git\\\\darknet\\\\build\\\\darknet\\\\x64\\\\data\\\\test.txt', 'w') as f:\n",
    "    f.write('\\n'.join(test_img_list) + '\\n')"
   ]
  },
  {
   "cell_type": "code",
   "execution_count": null,
   "id": "339ef107",
   "metadata": {},
   "outputs": [],
   "source": [
    "%cd darknet\n",
    "!sed -i 's/OPENCV=0/OPENCV=1/' Makefile\n",
    "!sed -i 's/GPU=0/GPU=1/' Makefile\n",
    "!sed -i 's/CUDNN=0/CUDNN=1/' Makefile\n",
    "!sed -i 's/CUDNN_HALF=0/CUDNN_HALF=1/' Makefile\n",
    "!make"
   ]
  }
 ],
 "metadata": {
  "kernelspec": {
   "display_name": "Python 3 (ipykernel)",
   "language": "python",
   "name": "python3"
  },
  "language_info": {
   "codemirror_mode": {
    "name": "ipython",
    "version": 3
   },
   "file_extension": ".py",
   "mimetype": "text/x-python",
   "name": "python",
   "nbconvert_exporter": "python",
   "pygments_lexer": "ipython3",
   "version": "3.8.12"
  }
 },
 "nbformat": 4,
 "nbformat_minor": 5
}
